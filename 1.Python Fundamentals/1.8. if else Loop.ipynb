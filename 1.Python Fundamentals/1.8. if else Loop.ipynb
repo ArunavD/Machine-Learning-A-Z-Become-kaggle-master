{
 "cells": [
  {
   "cell_type": "markdown",
   "metadata": {},
   "source": [
    "# if else Loop:"
   ]
  },
  {
   "cell_type": "markdown",
   "metadata": {},
   "source": [
    "## Here i have performed different looping operations using if else loop statements."
   ]
  },
  {
   "cell_type": "code",
   "execution_count": 8,
   "metadata": {},
   "outputs": [
    {
     "name": "stdout",
     "output_type": "stream",
     "text": [
      "a is smaller than 50 by 45 units\n"
     ]
    }
   ],
   "source": [
    "a=5\n",
    "if a>50:\n",
    "    print('a is larger than 50')\n",
    "else:\n",
    "    difference=50-a\n",
    "    print(\"a is smaller than 50 by \" +str(difference)+ \" units\")"
   ]
  },
  {
   "cell_type": "code",
   "execution_count": 9,
   "metadata": {},
   "outputs": [
    {
     "name": "stdout",
     "output_type": "stream",
     "text": [
      "Enter a number: 3\n",
      "Positive Number.\n"
     ]
    }
   ],
   "source": [
    "#elif\n",
    "\n",
    "num=int(input(\"Enter a number: \"))\n",
    "\n",
    "if num>0:\n",
    "    print(\"Positive Number.\")\n",
    "elif num==0:\n",
    "    print(\"Number is zero.\")\n",
    "else:\n",
    "    print(\"Negative number.\")"
   ]
  },
  {
   "cell_type": "code",
   "execution_count": 11,
   "metadata": {},
   "outputs": [
    {
     "name": "stdout",
     "output_type": "stream",
     "text": [
      "smallest no is: 2\n",
      "smallest no is: 2\n"
     ]
    }
   ],
   "source": [
    "#Find the smallest one out of 3 values\n",
    "\n",
    "n1=2\n",
    "n2=5\n",
    "n3=37\n",
    "\n",
    "if (n1<n2) and (n1<n3):\n",
    "    smallest=n1\n",
    "elif (n2<n1) and (n2<n3):\n",
    "    smallest=n2\n",
    "else:\n",
    "    smallest=n3\n",
    "print(\"smallest no is: \"+str(smallest))   \n",
    "print(\"smallest no is: {}\".format(smallest))"
   ]
  },
  {
   "cell_type": "code",
   "execution_count": 12,
   "metadata": {},
   "outputs": [
    {
     "name": "stdout",
     "output_type": "stream",
     "text": [
      "is False\n"
     ]
    }
   ],
   "source": [
    "#if you dont want to enter if block.\n",
    "if None:\n",
    "    print(\"is True\")\n",
    "else:\n",
    "    print(\"is False\")"
   ]
  },
  {
   "cell_type": "code",
   "execution_count": null,
   "metadata": {},
   "outputs": [],
   "source": []
  }
 ],
 "metadata": {
  "kernelspec": {
   "display_name": "Python 3",
   "language": "python",
   "name": "python3"
  },
  "language_info": {
   "codemirror_mode": {
    "name": "ipython",
    "version": 3
   },
   "file_extension": ".py",
   "mimetype": "text/x-python",
   "name": "python",
   "nbconvert_exporter": "python",
   "pygments_lexer": "ipython3",
   "version": "3.6.5"
  }
 },
 "nbformat": 4,
 "nbformat_minor": 2
}
